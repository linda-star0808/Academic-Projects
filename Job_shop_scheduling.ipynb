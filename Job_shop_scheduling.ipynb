{
  "nbformat": 4,
  "nbformat_minor": 0,
  "metadata": {
    "colab": {
      "provenance": []
    },
    "kernelspec": {
      "name": "python3",
      "display_name": "Python 3"
    },
    "language_info": {
      "name": "python"
    }
  },
  "cells": [
    {
      "cell_type": "code",
      "execution_count": null,
      "metadata": {
        "colab": {
          "base_uri": "https://localhost:8080/",
          "height": 438
        },
        "id": "GFMJ_GIgljEx",
        "outputId": "cc8c7797-c228-41f1-bda2-a1d8f5e4df49"
      },
      "outputs": [
        {
          "output_type": "stream",
          "name": "stderr",
          "text": [
            "/usr/local/lib/python3.9/dist-packages/pulp/pulp.py:1352: UserWarning: Spaces are not permitted in the name. Converted to '_'\n",
            "  warnings.warn(\"Spaces are not permitted in the name. Converted to '_'\")\n",
            "/usr/local/lib/python3.9/dist-packages/pulp/pulp.py:1711: UserWarning: Overwriting previously set objective.\n",
            "  warnings.warn(\"Overwriting previously set objective.\")\n"
          ]
        },
        {
          "output_type": "display_data",
          "data": {
            "text/plain": [
              "<Figure size 402.375x360 with 1 Axes>"
            ],
            "image/png": "[encoded data removed]"
          },
          "metadata": {}
        }
      ],
      "source": [
        "!pip install pulp\n",
        "!apt-get install -y -qq glpk-utils\n",
        "\n",
        "import numpy as np\n",
        "import pandas as pd\n",
        "import seaborn as sns\n",
        "import pulp\n",
        "\n",
        "def job_shop_scheduling(jobs, machines, processing_times):\n",
        "    # Define the problem\n",
        "    problem = pulp.LpProblem('Job Shop Scheduling', pulp.LpMinimize)\n",
        "    \n",
        "    # Define decision variables\n",
        "    start_times = pulp.LpVariable.dicts('Start Time', [(i,j) for i in jobs for j in machines], lowBound=0, cat='Continuous')\n",
        "    \n",
        "    # Define objective function\n",
        "    problem += pulp.lpSum([start_times[(i,j)] for i in jobs for j in machines])\n",
        "    \n",
        "    # Add constraints\n",
        "    for i in jobs:\n",
        "        for j in machines:\n",
        "            problem += start_times[(i,j)] >= start_times[(i,j-1)] + processing_times[i][machines.index(j)-1] if machines.index(j) > 0 else 0\n",
        "            problem += start_times[(i,j)] >= start_times[((i-1)%len(jobs))+1,j] + processing_times[(i-1)%len(jobs)+1][machines.index(j)] if i > 1 else 0\n",
        "    \n",
        "    # Solve the problem\n",
        "    problem.solve()\n",
        "    \n",
        "    # Extract the results\n",
        "    results = np.zeros((len(jobs), len(machines)))\n",
        "    for i in jobs:\n",
        "        for j in machines:\n",
        "            results[i-1][machines.index(j)] = pulp.value(start_times[(i,j)])\n",
        "    \n",
        "    # Convert the results to a pandas DataFrame\n",
        "    df = pd.DataFrame(results, columns=machines, index=jobs)\n",
        "    \n",
        "    # Melt the DataFrame to create a long format suitable for visualization\n",
        "    df = df.reset_index().melt(id_vars=['index'], var_name='Machine', value_name='Start Time')\n",
        "    df = df.rename(columns={'index':'Job'})\n",
        "    \n",
        "    return df\n",
        "\n",
        "# Define the problem parameters\n",
        "jobs = [1, 2, 3]\n",
        "machines = [1, 2, 3]\n",
        "processing_times = {\n",
        "    1: [2, 1, 3],\n",
        "    2: [2, 3, 1],\n",
        "    3: [1, 2, 2]\n",
        "}\n",
        "\n",
        "# Schedule the jobs and visualize the results using a Gantt chart\n",
        "df = job_shop_scheduling(jobs, machines, processing_times)\n",
        "sns.set_style('whitegrid')\n",
        "gantt = sns.catplot(data=df, kind='bar', x='Start Time', y='Machine', hue='Job', \n",
        "                    palette=sns.color_palette('colorblind', n_colors=len(jobs)))\n",
        "gantt.set_axis_labels('Time', 'Machine')\n",
        "gantt.legend.set_title('Job')\n"
      ]
    },
    {
      "cell_type": "code",
      "source": [],
      "metadata": {
        "id": "OeT94-vSesKW"
      },
      "execution_count": null,
      "outputs": []
    }
  ]
}